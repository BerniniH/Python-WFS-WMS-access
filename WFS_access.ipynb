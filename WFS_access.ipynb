{
 "cells": [
  {
   "cell_type": "raw",
   "id": "8f6e70ec",
   "metadata": {},
   "source": []
  },
  {
   "cell_type": "code",
   "execution_count": 68,
   "id": "c51cb0f1",
   "metadata": {
    "scrolled": true
   },
   "outputs": [],
   "source": [
    "from owslib.wfs import WebFeatureService\n",
    "import io\n",
    "import cartopy\n",
    "import matplotlib.pyplot as plt\n",
    "import geopandas as gpd\n",
    "import fiona\n",
    "from shapely.geometry import Polygon, mapping"
   ]
  },
  {
   "cell_type": "code",
   "execution_count": 69,
   "id": "ed881699",
   "metadata": {
    "scrolled": false
   },
   "outputs": [],
   "source": [
    "wfs = WebFeatureService(url='https://panorama.sipam.gov.br/geoserver/painel_do_fogo/wfs', version='1.1.0')"
   ]
  },
  {
   "cell_type": "code",
   "execution_count": 70,
   "id": "3a9c6860",
   "metadata": {
    "scrolled": true
   },
   "outputs": [
    {
     "data": {
      "text/plain": [
       "['painel_do_fogo:assentamento_federal',\n",
       " 'painel_do_fogo:tb_evento_extinto',\n",
       " 'painel_do_fogo:mv_evento_filtro',\n",
       " 'painel_do_fogo:mv_frente_deteccao',\n",
       " 'painel_do_fogo:ibge_bc250_lim_municipio_a',\n",
       " 'painel_do_fogo:ons_linha_transmissao',\n",
       " 'painel_do_fogo:area_quilombola',\n",
       " 'painel_do_fogo:funai_terra_indigena',\n",
       " 'painel_do_fogo:ibge_trajetos_2019',\n",
       " 'painel_do_fogo:icmbio_unidade_conservacao_federal',\n",
       " 'painel_do_fogo:brigadas_cbm',\n",
       " 'painel_do_fogo:dnit_rodovias_federais',\n",
       " 'painel_do_fogo:dnit_rodovias_federal_brasil',\n",
       " 'painel_do_fogo:ibge_bc250_hid_trecho_drenagem_l',\n",
       " 'painel_do_fogo:mma_cnuc_unidade_conservacao',\n",
       " 'painel_do_fogo:mv_evento_filtro_exportKML',\n",
       " 'painel_do_fogo:mv_indicadores_queimadas',\n",
       " 'painel_do_fogo:otca_amazonia_indigenous_land',\n",
       " 'painel_do_fogo:otca_amazonia_national_protected_area',\n",
       " 'painel_do_fogo:otca_amazonia_state_protected_area',\n",
       " 'painel_do_fogo:otca_capacombinada_cuencaamazo_act2',\n",
       " 'painel_do_fogo:tb_brigada',\n",
       " 'painel_do_fogo:tb_brigada_area',\n",
       " 'painel_do_fogo:tb_brigada_pto',\n",
       " 'painel_do_fogo:tb_deteccao',\n",
       " 'painel_do_fogo:tb_download_sentinel_2',\n",
       " 'painel_do_fogo:tb_evento',\n",
       " 'painel_do_fogo:tb_firms']"
      ]
     },
     "execution_count": 70,
     "metadata": {},
     "output_type": "execute_result"
    }
   ],
   "source": [
    "list(wfs.contents)"
   ]
  },
  {
   "cell_type": "code",
   "execution_count": 71,
   "id": "f222cfa7",
   "metadata": {},
   "outputs": [
    {
     "data": {
      "text/plain": [
       "[urn:x-ogc:def:crs:EPSG::4674]"
      ]
     },
     "execution_count": 71,
     "metadata": {},
     "output_type": "execute_result"
    }
   ],
   "source": [
    "wfs['painel_do_fogo:mv_evento_filtro_exportKML'].crsOptions"
   ]
  },
  {
   "cell_type": "code",
   "execution_count": 72,
   "id": "80c766fa",
   "metadata": {},
   "outputs": [],
   "source": [
    "layer_name = 'painel_do_fogo:mv_evento_filtro_exportKML'\n",
    "response = wfs.getfeature(typename=layer_name)"
   ]
  },
  {
   "cell_type": "code",
   "execution_count": 73,
   "id": "5d29f3ac",
   "metadata": {},
   "outputs": [],
   "source": [
    "with open('layer.gml', 'wb') as file:\n",
    "    file.write(response.read())"
   ]
  },
  {
   "cell_type": "code",
   "execution_count": 74,
   "id": "466fd568",
   "metadata": {},
   "outputs": [
    {
     "name": "stderr",
     "output_type": "stream",
     "text": [
      "/home/queimadas/miniconda3/envs/mp30py310/lib/python3.10/site-packages/geopandas/io/file.py:383: FutureWarning: errors='ignore' is deprecated and will raise in a future version. Use to_datetime without passing `errors` and catch exceptions explicitly instead\n",
      "  as_dt = pd.to_datetime(df[k], errors=\"ignore\")\n",
      "/home/queimadas/miniconda3/envs/mp30py310/lib/python3.10/site-packages/geopandas/io/file.py:383: FutureWarning: errors='ignore' is deprecated and will raise in a future version. Use to_datetime without passing `errors` and catch exceptions explicitly instead\n",
      "  as_dt = pd.to_datetime(df[k], errors=\"ignore\")\n"
     ]
    }
   ],
   "source": [
    "gdf = gpd.read_file('layer.gml')"
   ]
  },
  {
   "cell_type": "code",
   "execution_count": null,
   "id": "2a48d2ec",
   "metadata": {},
   "outputs": [],
   "source": []
  }
 ],
 "metadata": {
  "kernelspec": {
   "display_name": "Python 3 (ipykernel)",
   "language": "python",
   "name": "python3"
  },
  "language_info": {
   "codemirror_mode": {
    "name": "ipython",
    "version": 3
   },
   "file_extension": ".py",
   "mimetype": "text/x-python",
   "name": "python",
   "nbconvert_exporter": "python",
   "pygments_lexer": "ipython3",
   "version": "3.10.0"
  }
 },
 "nbformat": 4,
 "nbformat_minor": 5
}
